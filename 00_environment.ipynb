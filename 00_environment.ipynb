{
 "cells": [
  {
   "cell_type": "markdown",
   "id": "3eef4d3f-6bcb-49f2-a50d-1b10d0621288",
   "metadata": {},
   "source": [
    "# 無限を使わない？微分積分デモ資料"
   ]
  },
  {
   "cell_type": "markdown",
   "id": "0709a59f-284b-465d-a699-9606f4542bf0",
   "metadata": {},
   "source": [
    "## 言い訳\n",
    "\n",
    "微分も積分も厳密に議論する際は「連続性」という性質について議論する必要があります。連続性を議論するためには極限が必要であり、極限の厳密な定義は非常に難解です。\n",
    "\n",
    "今回は連続性と言うものを仮定して、微分と積分を見ていきます。\n",
    "\n",
    "追って連続性についても紹介できればと思います。"
   ]
  },
  {
   "cell_type": "markdown",
   "id": "f9b117c8-e635-4891-a321-f7e4a78f2648",
   "metadata": {},
   "source": [
    "## 環境構築\n",
    "このJupyter Lab(Jupyer Notebook)を利用するには次のような環境が必要です。\n",
    "\n",
    "1. asdf(必須ではない)\n",
    "2. Python（Jupyter Notebookを利用するため)\n",
    "3. Julia（コード）\n",
    "\n",
    "今回はMacを前提にします。必要に応じてWindowsやLinuxでもできるように追記します。"
   ]
  },
  {
   "cell_type": "markdown",
   "id": "6f713398-4bf6-4186-935e-157befdf345d",
   "metadata": {},
   "source": [
    "###　asdfをインストール\n"
   ]
  },
  {
   "cell_type": "markdown",
   "id": "04a5934d-7228-4a75-b288-f3fca10118b1",
   "metadata": {},
   "source": [
    "```sh\n",
    "git clone https://github.com/asdf-vm/asdf.git ~/.asdf\n",
    "echo '. $HOME/.asdf/asdf.sh' >> ~/.zshrc\n",
    "exec $SHELL -l\n",
    "```"
   ]
  },
  {
   "cell_type": "markdown",
   "id": "13f39cbc-79f8-4e6b-80f9-508e17f352d5",
   "metadata": {},
   "source": [
    "### Python をインストール\n",
    "\n",
    "```sh\n",
    "asdf add plugin python\n",
    "asdf install python 3.9.7\n",
    "asdf global python 3.9.7\n",
    "python --version\n",
    "# 3.9.7になっていなかった場合 `exec $SHELL -l` を実行後に再度確認\n",
    "```\n",
    "\n",
    "#### Jupyter Labをインストール\n",
    "pip install jupyterlab julyterlab-katex"
   ]
  },
  {
   "cell_type": "markdown",
   "id": "a452eb54-8a4d-4819-8b95-43ab1405c519",
   "metadata": {},
   "source": [
    "### Juliaをインストール\n",
    "```sh\n",
    "asdf plugin add julia\n",
    "asdf install julia 1.7.2\n",
    "asdf global julia 1.7.2\n",
    "julia --version \n",
    "# 1.7.2になっていなかった場合、 `exec $SHELL -l`を実行後に再度確認\n",
    "```\n",
    "\n",
    "#### Jupyter Lab用のパッケージをインストール\n",
    "\n",
    "```sh\n",
    "julia\n",
    "julia> # ] を入力\n",
    "(@1.7) pkg> add IJulia\n",
    "(@1.7) pkg> add Plots\n",
    "(@1.7) pkg> add PyPlot\n",
    "# Ctrl + D\n",
    "```"
   ]
  }
 ],
 "metadata": {
  "kernelspec": {
   "display_name": "Julia 1.7.2",
   "language": "julia",
   "name": "julia-1.7"
  },
  "language_info": {
   "file_extension": ".jl",
   "mimetype": "application/julia",
   "name": "julia",
   "version": "1.7.2"
  }
 },
 "nbformat": 4,
 "nbformat_minor": 5
}
