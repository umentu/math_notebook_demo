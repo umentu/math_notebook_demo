{
 "cells": [
  {
   "cell_type": "markdown",
   "id": "4c4c7310-5775-46ca-b915-a7ff05218335",
   "metadata": {},
   "source": [
    "#### 定義: 行列\n",
    "\n",
    "$$\n",
    "\\begin{pmatrix} \n",
    "1 & 2 \\\\ \n",
    "3 & 4 \\\\ \n",
    "\\end{pmatrix}\n",
    "$$\n",
    "\n",
    "や\n",
    "\n",
    "$$\n",
    "\\begin{pmatrix} \n",
    "a & b & c \\\\ \n",
    "d & e & f \\\\ \n",
    "\\end{pmatrix}\n",
    "$$\n",
    "\n",
    "のように、数を縦と横に並べたものをいう。ただし、\n",
    "\n",
    "$$\n",
    "\\begin{pmatrix} \n",
    "a & b & c \\\\ \n",
    "d & e & \\\\ \n",
    "\\end{pmatrix}\n",
    "$$\n",
    "\n",
    "\n",
    "のように、数が欠けているものは行列とは言わない。\n",
    "\n",
    "（これも特別な行列に限り表記上は欠けている場合がありますが、そのときはおおよそ0を意味します。）\n",
    "\n",
    "\n",
    "\n",
    "\n"
   ]
  },
  {
   "cell_type": "markdown",
   "id": "cc5a552d-0ce6-43ad-aa42-e96fba0146c3",
   "metadata": {},
   "source": [
    "行列というのは、数の並びです。行列の横の並びを **行** といい、縦の並びを **列**　といいます。\n",
    "\n",
    "\n",
    "これが非常に覚えづらいです（どれくらい覚えづらいかというと、東大のオープンセミナーで講師の方が「どっちが行でしたっけ？」と確認していたレベルです。）（どうかとは思いましたが……）\n",
    "\n",
    "\n",
    "恩師からは、このように習いました。別に出典はありそうですが。\n",
    "\n",
    "![](images/02/01.png)\n",
    "\n",
    "$$\n",
    "A = \\begin{pmatrix} \n",
    "1 & 2 \\\\ \n",
    "3 & 4 \\\\ \n",
    "\\end{pmatrix}\n",
    "$$\n",
    "\n",
    "の2は「1行目」で「2列目」の要素なので、「2行1列目の要素」と呼びます。これらの表現の仕方は用途に応じて変わることから紹介していくとキリがないため、都度紹介します。\n",
    "\n",
    "さて、線形性の説明に戻ります。\n",
    "\n",
    "\n",
    "\n",
    "\n",
    "\n",
    "\n"
   ]
  },
  {
   "cell_type": "code",
   "execution_count": null,
   "id": "186e9f4a-eb1b-4655-857d-0b8c71ff308d",
   "metadata": {},
   "outputs": [],
   "source": []
  }
 ],
 "metadata": {
  "kernelspec": {
   "display_name": "Julia 1.7.2",
   "language": "julia",
   "name": "julia-1.7"
  },
  "language_info": {
   "file_extension": ".jl",
   "mimetype": "application/julia",
   "name": "julia",
   "version": "1.7.2"
  }
 },
 "nbformat": 4,
 "nbformat_minor": 5
}
